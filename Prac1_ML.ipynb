{
  "nbformat": 4,
  "nbformat_minor": 0,
  "metadata": {
    "colab": {
      "provenance": [],
      "authorship_tag": "ABX9TyNwz9OcHy7Pv3K/eCR3SQWv",
      "include_colab_link": true
    },
    "kernelspec": {
      "name": "python3",
      "display_name": "Python 3"
    },
    "language_info": {
      "name": "python"
    }
  },
  "cells": [
    {
      "cell_type": "markdown",
      "metadata": {
        "id": "view-in-github",
        "colab_type": "text"
      },
      "source": [
        "<a href=\"https://colab.research.google.com/github/SoumyaDhuriya24/ExpenceTracker/blob/main/Prac1_ML.ipynb\" target=\"_parent\"><img src=\"https://colab.research.google.com/assets/colab-badge.svg\" alt=\"Open In Colab\"/></a>"
      ]
    },
    {
      "cell_type": "code",
      "source": [
        "import numpy as np"
      ],
      "metadata": {
        "id": "idGZ87kSxDgu"
      },
      "execution_count": null,
      "outputs": []
    },
    {
      "cell_type": "code",
      "source": [
        "arr = np.array([1,2,3,4,5])\n",
        "print(arr)"
      ],
      "metadata": {
        "colab": {
          "base_uri": "https://localhost:8080/"
        },
        "id": "bAXQOJgezfV9",
        "outputId": "50ed7b5a-19ef-4e05-d3a8-adc870e803b5"
      },
      "execution_count": null,
      "outputs": [
        {
          "output_type": "stream",
          "name": "stdout",
          "text": [
            "[1 2 3 4 5]\n"
          ]
        }
      ]
    },
    {
      "cell_type": "code",
      "source": [
        "print(type(arr))"
      ],
      "metadata": {
        "colab": {
          "base_uri": "https://localhost:8080/"
        },
        "id": "wcBEn2NszwIr",
        "outputId": "8abdb9cd-0ec7-465b-ab64-196e3a9334bb"
      },
      "execution_count": null,
      "outputs": [
        {
          "output_type": "stream",
          "name": "stdout",
          "text": [
            "<class 'numpy.ndarray'>\n"
          ]
        }
      ]
    },
    {
      "cell_type": "code",
      "source": [
        "print(arr[2])"
      ],
      "metadata": {
        "colab": {
          "base_uri": "https://localhost:8080/"
        },
        "id": "5F0izRwD0JkT",
        "outputId": "005a8bb9-6a5e-4599-f219-e1a131fed5b9"
      },
      "execution_count": null,
      "outputs": [
        {
          "output_type": "stream",
          "name": "stdout",
          "text": [
            "3\n"
          ]
        }
      ]
    },
    {
      "cell_type": "code",
      "source": [
        "print(arr[1:3])"
      ],
      "metadata": {
        "colab": {
          "base_uri": "https://localhost:8080/"
        },
        "id": "cGxVWstk0avp",
        "outputId": "c90fbe13-bbe6-44e8-e1b5-33fd903c9200"
      },
      "execution_count": null,
      "outputs": [
        {
          "output_type": "stream",
          "name": "stdout",
          "text": [
            "[2 3]\n"
          ]
        }
      ]
    },
    {
      "cell_type": "code",
      "source": [
        "print(arr[2:])"
      ],
      "metadata": {
        "colab": {
          "base_uri": "https://localhost:8080/"
        },
        "id": "YTSbRO4U08rx",
        "outputId": "3bbb87ac-2692-48f7-eece-d90497d3050d"
      },
      "execution_count": null,
      "outputs": [
        {
          "output_type": "stream",
          "name": "stdout",
          "text": [
            "[3 4 5]\n"
          ]
        }
      ]
    },
    {
      "cell_type": "code",
      "source": [
        "print(arr[1:3])"
      ],
      "metadata": {
        "colab": {
          "base_uri": "https://localhost:8080/"
        },
        "id": "7zQHmLhe1DZg",
        "outputId": "a4cca0fd-502d-4e1e-ab47-5a8eda6c34c2"
      },
      "execution_count": null,
      "outputs": [
        {
          "output_type": "stream",
          "name": "stdout",
          "text": [
            "[2 3]\n"
          ]
        }
      ]
    },
    {
      "cell_type": "code",
      "source": [
        "print(arr[-3:-1])"
      ],
      "metadata": {
        "colab": {
          "base_uri": "https://localhost:8080/"
        },
        "id": "zpzmPMze1ICO",
        "outputId": "deba56b5-32b5-481c-fa35-75b591ff47d0"
      },
      "execution_count": null,
      "outputs": [
        {
          "output_type": "stream",
          "name": "stdout",
          "text": [
            "[3 4]\n"
          ]
        }
      ]
    },
    {
      "cell_type": "markdown",
      "source": [
        "**Pandas**"
      ],
      "metadata": {
        "id": "MQrG5Kn02PhC"
      }
    },
    {
      "cell_type": "code",
      "source": [
        "import pandas as pd"
      ],
      "metadata": {
        "id": "Wwjjti_w1dce"
      },
      "execution_count": null,
      "outputs": []
    },
    {
      "cell_type": "code",
      "source": [
        "mydata={\n",
        "    \"car\":[\"BMW\",\"TATA\",\"Honda\"],\n",
        "    \"year\" :[1999,1967,2000]\n",
        "}\n",
        "mydataframe = pd.DataFrame(mydata)\n",
        "print(mydataframe)"
      ],
      "metadata": {
        "colab": {
          "base_uri": "https://localhost:8080/"
        },
        "id": "IIlLO9_a2Xq7",
        "outputId": "74c4d274-37a4-4808-bcb4-939848834e6c"
      },
      "execution_count": null,
      "outputs": [
        {
          "output_type": "stream",
          "name": "stdout",
          "text": [
            "     car  year\n",
            "0    BMW  1999\n",
            "1   TATA  1967\n",
            "2  Honda  2000\n"
          ]
        }
      ]
    },
    {
      "cell_type": "code",
      "source": [
        "df= pd.read_csv('/content/sample_data/data.csv')\n",
        "print(df)"
      ],
      "metadata": {
        "colab": {
          "base_uri": "https://localhost:8080/"
        },
        "id": "BHmbKzHP26qx",
        "outputId": "6513af88-f31a-4280-f488-89f29cd94f44"
      },
      "execution_count": null,
      "outputs": [
        {
          "output_type": "stream",
          "name": "stdout",
          "text": [
            "           Car       Model  Volume  Weight  CO2\n",
            "0       Toyoty        Aygo    1000     790   99\n",
            "1   Mitsubishi  Space Star    1200    1160   95\n",
            "2        Skoda      Citigo    1000     929   95\n",
            "3         Fiat         500     900     865   90\n",
            "4         Mini      Cooper    1500    1140  105\n",
            "5           VW         Up!    1000     929  105\n",
            "6        Skoda       Fabia    1400    1109   90\n",
            "7     Mercedes     A-Class    1500    1365   92\n",
            "8         Ford      Fiesta    1500    1112   98\n",
            "9         Audi          A1    1600    1150   99\n",
            "10     Hyundai         I20    1100     980   99\n",
            "11      Suzuki       Swift    1300     990  101\n",
            "12        Ford      Fiesta    1000    1112   99\n",
            "13       Honda       Civic    1600    1252   94\n",
            "14      Hundai         I30    1600    1326   97\n",
            "15        Opel       Astra    1600    1330   97\n",
            "16         BMW           1    1600    1365   99\n",
            "17       Mazda           3    2200    1280  104\n",
            "18       Skoda       Rapid    1600    1119  104\n",
            "19        Ford       Focus    2000    1328  105\n",
            "20        Ford      Mondeo    1600    1584   94\n",
            "21        Opel    Insignia    2000    1428   99\n",
            "22    Mercedes     C-Class    2100    1365   99\n",
            "23       Skoda     Octavia    1600    1415   99\n",
            "24       Volvo         S60    2000    1415   99\n",
            "25    Mercedes         CLA    1500    1465  102\n",
            "26        Audi          A4    2000    1490  104\n",
            "27        Audi          A6    2000    1725  114\n",
            "28       Volvo         V70    1600    1523  109\n",
            "29         BMW           5    2000    1705  114\n",
            "30    Mercedes     E-Class    2100    1605  115\n",
            "31       Volvo        XC70    2000    1746  117\n",
            "32        Ford       B-Max    1600    1235  104\n",
            "33         BMW         216    1600    1390  108\n",
            "34        Opel      Zafira    1600    1405  109\n",
            "35    Mercedes         SLK    2500    1395  120\n"
          ]
        }
      ]
    },
    {
      "cell_type": "code",
      "source": [
        "print (df.head())"
      ],
      "metadata": {
        "colab": {
          "base_uri": "https://localhost:8080/"
        },
        "id": "UZl0ogT25zxz",
        "outputId": "dcc78ec4-2ae6-4220-97cc-4385f5bfb447"
      },
      "execution_count": null,
      "outputs": [
        {
          "output_type": "stream",
          "name": "stdout",
          "text": [
            "          Car       Model  Volume  Weight  CO2\n",
            "0      Toyoty        Aygo    1000     790   99\n",
            "1  Mitsubishi  Space Star    1200    1160   95\n",
            "2       Skoda      Citigo    1000     929   95\n",
            "3        Fiat         500     900     865   90\n",
            "4        Mini      Cooper    1500    1140  105\n"
          ]
        }
      ]
    },
    {
      "cell_type": "code",
      "source": [
        "print(df.tail())"
      ],
      "metadata": {
        "colab": {
          "base_uri": "https://localhost:8080/"
        },
        "id": "86FF-1lJ6VE6",
        "outputId": "23706743-4b7e-44ff-ab5b-4bf49ff0bf21"
      },
      "execution_count": null,
      "outputs": [
        {
          "output_type": "stream",
          "name": "stdout",
          "text": [
            "         Car   Model  Volume  Weight  CO2\n",
            "31     Volvo    XC70    2000    1746  117\n",
            "32      Ford   B-Max    1600    1235  104\n",
            "33       BMW     216    1600    1390  108\n",
            "34      Opel  Zafira    1600    1405  109\n",
            "35  Mercedes     SLK    2500    1395  120\n"
          ]
        }
      ]
    },
    {
      "cell_type": "code",
      "source": [
        "print(df.head(10))"
      ],
      "metadata": {
        "colab": {
          "base_uri": "https://localhost:8080/"
        },
        "id": "mpWIzlix6Xu5",
        "outputId": "31d4d9e0-1cb3-4168-aa24-543e9a8818c4"
      },
      "execution_count": null,
      "outputs": [
        {
          "output_type": "stream",
          "name": "stdout",
          "text": [
            "          Car       Model  Volume  Weight  CO2\n",
            "0      Toyoty        Aygo    1000     790   99\n",
            "1  Mitsubishi  Space Star    1200    1160   95\n",
            "2       Skoda      Citigo    1000     929   95\n",
            "3        Fiat         500     900     865   90\n",
            "4        Mini      Cooper    1500    1140  105\n",
            "5          VW         Up!    1000     929  105\n",
            "6       Skoda       Fabia    1400    1109   90\n",
            "7    Mercedes     A-Class    1500    1365   92\n",
            "8        Ford      Fiesta    1500    1112   98\n",
            "9        Audi          A1    1600    1150   99\n"
          ]
        }
      ]
    },
    {
      "cell_type": "code",
      "source": [
        "print(df.info())"
      ],
      "metadata": {
        "colab": {
          "base_uri": "https://localhost:8080/"
        },
        "id": "RYn0ILpN6cyB",
        "outputId": "c68474c2-e724-44ee-c3ac-bc7dcb51a354"
      },
      "execution_count": null,
      "outputs": [
        {
          "output_type": "stream",
          "name": "stdout",
          "text": [
            "<class 'pandas.core.frame.DataFrame'>\n",
            "RangeIndex: 36 entries, 0 to 35\n",
            "Data columns (total 5 columns):\n",
            " #   Column  Non-Null Count  Dtype \n",
            "---  ------  --------------  ----- \n",
            " 0   Car     36 non-null     object\n",
            " 1   Model   36 non-null     object\n",
            " 2   Volume  36 non-null     int64 \n",
            " 3   Weight  36 non-null     int64 \n",
            " 4   CO2     36 non-null     int64 \n",
            "dtypes: int64(3), object(2)\n",
            "memory usage: 1.5+ KB\n",
            "None\n"
          ]
        }
      ]
    },
    {
      "cell_type": "code",
      "source": [],
      "metadata": {
        "id": "Hi6VzuQ76gOr"
      },
      "execution_count": null,
      "outputs": []
    }
  ]
}